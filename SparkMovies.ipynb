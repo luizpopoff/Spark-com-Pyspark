{
  "nbformat": 4,
  "nbformat_minor": 0,
  "metadata": {
    "colab": {
      "provenance": []
    },
    "kernelspec": {
      "name": "python3",
      "display_name": "Python 3"
    },
    "language_info": {
      "name": "python"
    }
  },
  "cells": [
    {
      "cell_type": "code",
      "execution_count": 1,
      "metadata": {
        "id": "X4Rt4og2HYiY"
      },
      "outputs": [],
      "source": [
        "#Instalar o java\n",
        "!apt-get install openjdk-8-jdk-headless -qq > /dev/null"
      ]
    },
    {
      "cell_type": "code",
      "source": [
        "#Baixar a versão mais recente do spark\n",
        "!wget -q https://archive.apache.org/dist/spark/spark-3.1.2/spark-3.1.2-bin-hadoop2.7.tgz\n"
      ],
      "metadata": {
        "id": "60gk7XdKHjiN"
      },
      "execution_count": 2,
      "outputs": []
    },
    {
      "cell_type": "code",
      "source": [
        "#Unzip o spark\n",
        "!tar xf spark-3.1.2-bin-hadoop2.7.tgz"
      ],
      "metadata": {
        "id": "aRvddC5pHn2V"
      },
      "execution_count": 5,
      "outputs": []
    },
    {
      "cell_type": "code",
      "source": [
        "#Criar as variáveis de ambiente\n",
        "import os\n",
        "os.environ[\"JAVA_HOME\"] = \"/usr/lib/jvm/java-8-openjdk-amd64\"\n",
        "os.environ[\"SPARK_HOME\"] = \"/content/spark-3.1.2-bin-hadoop2.7\""
      ],
      "metadata": {
        "id": "puIh3uemIrjz"
      },
      "execution_count": 6,
      "outputs": []
    },
    {
      "cell_type": "code",
      "source": [
        "#instalar a lib findspark que ajuda a localizar o Spark no sistema e importá-lo como uma biblioteca regular\n",
        "!pip install -q findspark"
      ],
      "metadata": {
        "id": "GODnAE8qI9JU"
      },
      "execution_count": 7,
      "outputs": []
    },
    {
      "cell_type": "code",
      "source": [
        "#Importa a lib findspark\n",
        "import findspark\n",
        "findspark.init()"
      ],
      "metadata": {
        "id": "ABqf5-OVJK3E"
      },
      "execution_count": 8,
      "outputs": []
    },
    {
      "cell_type": "code",
      "source": [
        "#criar spark session\n",
        "from pyspark.sql import SparkSession\n",
        "spark = SparkSession.builder\\\n",
        "        .master(\"local[*]\")\\\n",
        "        .appName('sparkcolab')\\\n",
        "        .getOrCreate()"
      ],
      "metadata": {
        "id": "OtZRgR0PJgOy"
      },
      "execution_count": 9,
      "outputs": []
    },
    {
      "cell_type": "code",
      "source": [
        "#importar o dataset\n",
        "from google.colab import files\n",
        "arquivo = files.upload()"
      ],
      "metadata": {
        "colab": {
          "base_uri": "https://localhost:8080/",
          "height": 73
        },
        "id": "0-dzQ90wKASf",
        "outputId": "13d61f8a-28af-415b-c8f1-3d4736763dde"
      },
      "execution_count": 12,
      "outputs": [
        {
          "output_type": "display_data",
          "data": {
            "text/plain": [
              "<IPython.core.display.HTML object>"
            ],
            "text/html": [
              "\n",
              "     <input type=\"file\" id=\"files-c2557f2f-42e7-44ef-99dc-bcb3c81f136f\" name=\"files[]\" multiple disabled\n",
              "        style=\"border:none\" />\n",
              "     <output id=\"result-c2557f2f-42e7-44ef-99dc-bcb3c81f136f\">\n",
              "      Upload widget is only available when the cell has been executed in the\n",
              "      current browser session. Please rerun this cell to enable.\n",
              "      </output>\n",
              "      <script>// Copyright 2017 Google LLC\n",
              "//\n",
              "// Licensed under the Apache License, Version 2.0 (the \"License\");\n",
              "// you may not use this file except in compliance with the License.\n",
              "// You may obtain a copy of the License at\n",
              "//\n",
              "//      http://www.apache.org/licenses/LICENSE-2.0\n",
              "//\n",
              "// Unless required by applicable law or agreed to in writing, software\n",
              "// distributed under the License is distributed on an \"AS IS\" BASIS,\n",
              "// WITHOUT WARRANTIES OR CONDITIONS OF ANY KIND, either express or implied.\n",
              "// See the License for the specific language governing permissions and\n",
              "// limitations under the License.\n",
              "\n",
              "/**\n",
              " * @fileoverview Helpers for google.colab Python module.\n",
              " */\n",
              "(function(scope) {\n",
              "function span(text, styleAttributes = {}) {\n",
              "  const element = document.createElement('span');\n",
              "  element.textContent = text;\n",
              "  for (const key of Object.keys(styleAttributes)) {\n",
              "    element.style[key] = styleAttributes[key];\n",
              "  }\n",
              "  return element;\n",
              "}\n",
              "\n",
              "// Max number of bytes which will be uploaded at a time.\n",
              "const MAX_PAYLOAD_SIZE = 100 * 1024;\n",
              "\n",
              "function _uploadFiles(inputId, outputId) {\n",
              "  const steps = uploadFilesStep(inputId, outputId);\n",
              "  const outputElement = document.getElementById(outputId);\n",
              "  // Cache steps on the outputElement to make it available for the next call\n",
              "  // to uploadFilesContinue from Python.\n",
              "  outputElement.steps = steps;\n",
              "\n",
              "  return _uploadFilesContinue(outputId);\n",
              "}\n",
              "\n",
              "// This is roughly an async generator (not supported in the browser yet),\n",
              "// where there are multiple asynchronous steps and the Python side is going\n",
              "// to poll for completion of each step.\n",
              "// This uses a Promise to block the python side on completion of each step,\n",
              "// then passes the result of the previous step as the input to the next step.\n",
              "function _uploadFilesContinue(outputId) {\n",
              "  const outputElement = document.getElementById(outputId);\n",
              "  const steps = outputElement.steps;\n",
              "\n",
              "  const next = steps.next(outputElement.lastPromiseValue);\n",
              "  return Promise.resolve(next.value.promise).then((value) => {\n",
              "    // Cache the last promise value to make it available to the next\n",
              "    // step of the generator.\n",
              "    outputElement.lastPromiseValue = value;\n",
              "    return next.value.response;\n",
              "  });\n",
              "}\n",
              "\n",
              "/**\n",
              " * Generator function which is called between each async step of the upload\n",
              " * process.\n",
              " * @param {string} inputId Element ID of the input file picker element.\n",
              " * @param {string} outputId Element ID of the output display.\n",
              " * @return {!Iterable<!Object>} Iterable of next steps.\n",
              " */\n",
              "function* uploadFilesStep(inputId, outputId) {\n",
              "  const inputElement = document.getElementById(inputId);\n",
              "  inputElement.disabled = false;\n",
              "\n",
              "  const outputElement = document.getElementById(outputId);\n",
              "  outputElement.innerHTML = '';\n",
              "\n",
              "  const pickedPromise = new Promise((resolve) => {\n",
              "    inputElement.addEventListener('change', (e) => {\n",
              "      resolve(e.target.files);\n",
              "    });\n",
              "  });\n",
              "\n",
              "  const cancel = document.createElement('button');\n",
              "  inputElement.parentElement.appendChild(cancel);\n",
              "  cancel.textContent = 'Cancel upload';\n",
              "  const cancelPromise = new Promise((resolve) => {\n",
              "    cancel.onclick = () => {\n",
              "      resolve(null);\n",
              "    };\n",
              "  });\n",
              "\n",
              "  // Wait for the user to pick the files.\n",
              "  const files = yield {\n",
              "    promise: Promise.race([pickedPromise, cancelPromise]),\n",
              "    response: {\n",
              "      action: 'starting',\n",
              "    }\n",
              "  };\n",
              "\n",
              "  cancel.remove();\n",
              "\n",
              "  // Disable the input element since further picks are not allowed.\n",
              "  inputElement.disabled = true;\n",
              "\n",
              "  if (!files) {\n",
              "    return {\n",
              "      response: {\n",
              "        action: 'complete',\n",
              "      }\n",
              "    };\n",
              "  }\n",
              "\n",
              "  for (const file of files) {\n",
              "    const li = document.createElement('li');\n",
              "    li.append(span(file.name, {fontWeight: 'bold'}));\n",
              "    li.append(span(\n",
              "        `(${file.type || 'n/a'}) - ${file.size} bytes, ` +\n",
              "        `last modified: ${\n",
              "            file.lastModifiedDate ? file.lastModifiedDate.toLocaleDateString() :\n",
              "                                    'n/a'} - `));\n",
              "    const percent = span('0% done');\n",
              "    li.appendChild(percent);\n",
              "\n",
              "    outputElement.appendChild(li);\n",
              "\n",
              "    const fileDataPromise = new Promise((resolve) => {\n",
              "      const reader = new FileReader();\n",
              "      reader.onload = (e) => {\n",
              "        resolve(e.target.result);\n",
              "      };\n",
              "      reader.readAsArrayBuffer(file);\n",
              "    });\n",
              "    // Wait for the data to be ready.\n",
              "    let fileData = yield {\n",
              "      promise: fileDataPromise,\n",
              "      response: {\n",
              "        action: 'continue',\n",
              "      }\n",
              "    };\n",
              "\n",
              "    // Use a chunked sending to avoid message size limits. See b/62115660.\n",
              "    let position = 0;\n",
              "    do {\n",
              "      const length = Math.min(fileData.byteLength - position, MAX_PAYLOAD_SIZE);\n",
              "      const chunk = new Uint8Array(fileData, position, length);\n",
              "      position += length;\n",
              "\n",
              "      const base64 = btoa(String.fromCharCode.apply(null, chunk));\n",
              "      yield {\n",
              "        response: {\n",
              "          action: 'append',\n",
              "          file: file.name,\n",
              "          data: base64,\n",
              "        },\n",
              "      };\n",
              "\n",
              "      let percentDone = fileData.byteLength === 0 ?\n",
              "          100 :\n",
              "          Math.round((position / fileData.byteLength) * 100);\n",
              "      percent.textContent = `${percentDone}% done`;\n",
              "\n",
              "    } while (position < fileData.byteLength);\n",
              "  }\n",
              "\n",
              "  // All done.\n",
              "  yield {\n",
              "    response: {\n",
              "      action: 'complete',\n",
              "    }\n",
              "  };\n",
              "}\n",
              "\n",
              "scope.google = scope.google || {};\n",
              "scope.google.colab = scope.google.colab || {};\n",
              "scope.google.colab._files = {\n",
              "  _uploadFiles,\n",
              "  _uploadFilesContinue,\n",
              "};\n",
              "})(self);\n",
              "</script> "
            ]
          },
          "metadata": {}
        },
        {
          "output_type": "stream",
          "name": "stdout",
          "text": [
            "Saving movies.csv to movies.csv\n"
          ]
        }
      ]
    },
    {
      "cell_type": "code",
      "source": [
        "#criar dataframe\n",
        "df = spark.read.csv('movies.csv', header=True, inferSchema=True)"
      ],
      "metadata": {
        "id": "MKnUCXYTPxUU"
      },
      "execution_count": 13,
      "outputs": []
    },
    {
      "cell_type": "code",
      "source": [
        "df.printSchema()"
      ],
      "metadata": {
        "colab": {
          "base_uri": "https://localhost:8080/"
        },
        "id": "UhpQzuNRQDIc",
        "outputId": "858cc5fc-61c3-4577-9fb9-748738211bb8"
      },
      "execution_count": 14,
      "outputs": [
        {
          "output_type": "stream",
          "name": "stdout",
          "text": [
            "root\n",
            " |-- Film: string (nullable = true)\n",
            " |-- Genre: string (nullable = true)\n",
            " |-- Lead Studio: string (nullable = true)\n",
            " |-- Audience score %: integer (nullable = true)\n",
            " |-- Profitability: double (nullable = true)\n",
            " |-- Rotten Tomatoes %: integer (nullable = true)\n",
            " |-- Worldwide Gross: string (nullable = true)\n",
            " |-- Year: integer (nullable = true)\n",
            "\n"
          ]
        }
      ]
    },
    {
      "cell_type": "code",
      "source": [
        "df.show()"
      ],
      "metadata": {
        "colab": {
          "base_uri": "https://localhost:8080/"
        },
        "id": "B81dAGKFQEgO",
        "outputId": "63ba5da6-4ff7-4ab5-e7a3-c6ad8d8e4a09"
      },
      "execution_count": 15,
      "outputs": [
        {
          "output_type": "stream",
          "name": "stdout",
          "text": [
            "+--------------------+---------+--------------------+----------------+-------------+-----------------+---------------+----+\n",
            "|                Film|    Genre|         Lead Studio|Audience score %|Profitability|Rotten Tomatoes %|Worldwide Gross|Year|\n",
            "+--------------------+---------+--------------------+----------------+-------------+-----------------+---------------+----+\n",
            "|Zack and Miri Mak...|  Romance|The Weinstein Com...|              70|  1.747541667|               64|        $41.94 |2008|\n",
            "|     Youth in Revolt|   Comedy|The Weinstein Com...|              52|         1.09|               68|        $19.62 |2010|\n",
            "|You Will Meet a T...|   Comedy|         Independent|              35|  1.211818182|               43|        $26.66 |2010|\n",
            "|        When in Rome|   Comedy|              Disney|              44|          0.0|               15|        $43.04 |2010|\n",
            "|What Happens in V...|   Comedy|                 Fox|              72|  6.267647029|               28|       $219.37 |2008|\n",
            "| Water For Elephants|    Drama|    20th Century Fox|              72|  3.081421053|               60|       $117.09 |2011|\n",
            "|              WALL-E|Animation|              Disney|              89|  2.896019067|               96|       $521.28 |2008|\n",
            "|            Waitress|  Romance|         Independent|              67|   11.0897415|               89|        $22.18 |2007|\n",
            "| Waiting For Forever|  Romance|         Independent|              53|        0.005|                6|         $0.03 |2011|\n",
            "|     Valentine's Day|   Comedy|        Warner Bros.|              54|  4.184038462|               17|       $217.57 |2010|\n",
            "|Tyler Perry's Why...|  Romance|         Independent|              47|    3.7241924|               46|        $55.86 |2007|\n",
            "|Twilight: Breakin...|  Romance|         Independent|              68|  6.383363636|               26|       $702.17 |2011|\n",
            "|            Twilight|  Romance|              Summit|              82|  10.18002703|               49|       $376.66 |2008|\n",
            "|      The Ugly Truth|   Comedy|         Independent|              68|  5.402631579|               14|       $205.30 |2009|\n",
            "|The Twilight Saga...|    Drama|              Summit|              78|      14.1964|               27|       $709.82 |2009|\n",
            "|The Time Traveler...|    Drama|           Paramount|              65|  2.598205128|               38|       $101.33 |2009|\n",
            "|        The Proposal|   Comedy|              Disney|              74|       7.8675|               43|       $314.70 |2009|\n",
            "|The Invention of ...|   Comedy|        Warner Bros.|              47|  1.751351351|               56|        $32.40 |2009|\n",
            "|  The Heartbreak Kid|   Comedy|           Paramount|              41|  2.129444167|               30|       $127.77 |2007|\n",
            "|         The Duchess|    Drama|           Paramount|              68|  3.207850222|               60|        $43.31 |2008|\n",
            "+--------------------+---------+--------------------+----------------+-------------+-----------------+---------------+----+\n",
            "only showing top 20 rows\n",
            "\n"
          ]
        }
      ]
    },
    {
      "cell_type": "code",
      "source": [
        "#selecionar colunas\n",
        "df_movie = df.select('Film', 'Genre','Audience score %','Year')"
      ],
      "metadata": {
        "id": "uM0ja2CHQQLy"
      },
      "execution_count": 19,
      "outputs": []
    },
    {
      "cell_type": "code",
      "source": [
        "df_movie.show()"
      ],
      "metadata": {
        "colab": {
          "base_uri": "https://localhost:8080/"
        },
        "id": "qRGhIQwLQ0RU",
        "outputId": "61519d5a-017d-4ffc-ff08-ae580b9ff0ba"
      },
      "execution_count": 20,
      "outputs": [
        {
          "output_type": "stream",
          "name": "stdout",
          "text": [
            "+--------------------+---------+----------------+----+\n",
            "|                Film|    Genre|Audience score %|Year|\n",
            "+--------------------+---------+----------------+----+\n",
            "|Zack and Miri Mak...|  Romance|              70|2008|\n",
            "|     Youth in Revolt|   Comedy|              52|2010|\n",
            "|You Will Meet a T...|   Comedy|              35|2010|\n",
            "|        When in Rome|   Comedy|              44|2010|\n",
            "|What Happens in V...|   Comedy|              72|2008|\n",
            "| Water For Elephants|    Drama|              72|2011|\n",
            "|              WALL-E|Animation|              89|2008|\n",
            "|            Waitress|  Romance|              67|2007|\n",
            "| Waiting For Forever|  Romance|              53|2011|\n",
            "|     Valentine's Day|   Comedy|              54|2010|\n",
            "|Tyler Perry's Why...|  Romance|              47|2007|\n",
            "|Twilight: Breakin...|  Romance|              68|2011|\n",
            "|            Twilight|  Romance|              82|2008|\n",
            "|      The Ugly Truth|   Comedy|              68|2009|\n",
            "|The Twilight Saga...|    Drama|              78|2009|\n",
            "|The Time Traveler...|    Drama|              65|2009|\n",
            "|        The Proposal|   Comedy|              74|2009|\n",
            "|The Invention of ...|   Comedy|              47|2009|\n",
            "|  The Heartbreak Kid|   Comedy|              41|2007|\n",
            "|         The Duchess|    Drama|              68|2008|\n",
            "+--------------------+---------+----------------+----+\n",
            "only showing top 20 rows\n",
            "\n"
          ]
        }
      ]
    },
    {
      "cell_type": "code",
      "source": [
        "#filtro\n",
        "df_movie.filter(df_movie['Year'] > 2009).show()"
      ],
      "metadata": {
        "colab": {
          "base_uri": "https://localhost:8080/"
        },
        "id": "HRcjV7tQQ2Di",
        "outputId": "c1c14f86-c580-4689-a77b-d44e604d927b"
      },
      "execution_count": 21,
      "outputs": [
        {
          "output_type": "stream",
          "name": "stdout",
          "text": [
            "+--------------------+---------+----------------+----+\n",
            "|                Film|    Genre|Audience score %|Year|\n",
            "+--------------------+---------+----------------+----+\n",
            "|     Youth in Revolt|   Comedy|              52|2010|\n",
            "|You Will Meet a T...|   Comedy|              35|2010|\n",
            "|        When in Rome|   Comedy|              44|2010|\n",
            "| Water For Elephants|    Drama|              72|2011|\n",
            "| Waiting For Forever|  Romance|              53|2011|\n",
            "|     Valentine's Day|   Comedy|              54|2010|\n",
            "|Twilight: Breakin...|  Romance|              68|2011|\n",
            "|    The Back-up Plan|   Comedy|              47|2010|\n",
            "|             Tangled|Animation|              88|2010|\n",
            "|  Something Borrowed|  Romance|              48|2011|\n",
            "|She's Out of My L...|   Comedy|              60|2010|\n",
            "|Sex and the City Two|   Comedy|              49|2010|\n",
            "|  Sex and the City 2|   Comedy|              49|2010|\n",
            "|         Remember Me|    Drama|              70|2010|\n",
            "|  Our Family Wedding|   Comedy|              49|2010|\n",
            "|             One Day|  Romance|              54|2011|\n",
            "|      New Year's Eve|  Romance|              48|2011|\n",
            "|My Week with Marilyn|    Drama|              84|2011|\n",
            "|         Monte Carlo|  Romance|              50|2011|\n",
            "|   Midnight in Paris|  Romence|              84|2011|\n",
            "+--------------------+---------+----------------+----+\n",
            "only showing top 20 rows\n",
            "\n"
          ]
        }
      ]
    },
    {
      "cell_type": "code",
      "source": [
        "#pegar o max\n",
        "from pyspark.sql.functions import max\n",
        "df_max = df_movie.agg(max('Audience score %').alias('max_audience'))\n",
        "df_max.show()"
      ],
      "metadata": {
        "colab": {
          "base_uri": "https://localhost:8080/"
        },
        "id": "1Vtz-0aZRKhe",
        "outputId": "82409dce-4600-4f26-cdfd-cbe9797b1d31"
      },
      "execution_count": 22,
      "outputs": [
        {
          "output_type": "stream",
          "name": "stdout",
          "text": [
            "+------------+\n",
            "|max_audience|\n",
            "+------------+\n",
            "|          89|\n",
            "+------------+\n",
            "\n"
          ]
        }
      ]
    },
    {
      "cell_type": "code",
      "source": [
        "df_max_audience = df_movie.filter(df_movie['Audience score %'] == 89)\n",
        "df_max_audience.show()"
      ],
      "metadata": {
        "colab": {
          "base_uri": "https://localhost:8080/"
        },
        "id": "ZuLRZPiFRhOo",
        "outputId": "61c0ebe1-5909-4330-ec77-00125307e8a6"
      },
      "execution_count": 23,
      "outputs": [
        {
          "output_type": "stream",
          "name": "stdout",
          "text": [
            "+------------------+---------+----------------+----+\n",
            "|              Film|    Genre|Audience score %|Year|\n",
            "+------------------+---------+----------------+----+\n",
            "|            WALL-E|Animation|              89|2008|\n",
            "|A Dangerous Method|    Drama|              89|2011|\n",
            "+------------------+---------+----------------+----+\n",
            "\n"
          ]
        }
      ]
    },
    {
      "cell_type": "code",
      "source": [
        "#contar genero\n",
        "from pyspark.sql.functions import count, col, asc, desc\n",
        "df_sum = df_movie.groupBy('Genre').count()\n",
        "df_sum.show(truncate=False)"
      ],
      "metadata": {
        "colab": {
          "base_uri": "https://localhost:8080/"
        },
        "id": "qcla0by6RzQw",
        "outputId": "f2250a4d-eb6a-4366-9f24-09346b22ef98"
      },
      "execution_count": 25,
      "outputs": [
        {
          "output_type": "stream",
          "name": "stdout",
          "text": [
            "+---------+-----+\n",
            "|Genre    |count|\n",
            "+---------+-----+\n",
            "|Romance  |13   |\n",
            "|Drama    |13   |\n",
            "|Comdy    |1    |\n",
            "|Romence  |1    |\n",
            "|Fantasy  |1    |\n",
            "|Animation|4    |\n",
            "|Comedy   |41   |\n",
            "|romance  |1    |\n",
            "|Action   |1    |\n",
            "|comedy   |1    |\n",
            "+---------+-----+\n",
            "\n"
          ]
        }
      ]
    },
    {
      "cell_type": "code",
      "source": [
        "#ordenação\n",
        "df_sum.orderBy(col('count').desc()).show()"
      ],
      "metadata": {
        "colab": {
          "base_uri": "https://localhost:8080/"
        },
        "id": "G_CZvezeSQoj",
        "outputId": "be90f10a-4f00-4e6d-c871-c4cb7ef4615d"
      },
      "execution_count": 26,
      "outputs": [
        {
          "output_type": "stream",
          "name": "stdout",
          "text": [
            "+---------+-----+\n",
            "|    Genre|count|\n",
            "+---------+-----+\n",
            "|   Comedy|   41|\n",
            "|    Drama|   13|\n",
            "|  Romance|   13|\n",
            "|Animation|    4|\n",
            "|    Comdy|    1|\n",
            "|  Romence|    1|\n",
            "|   Action|    1|\n",
            "|  romance|    1|\n",
            "|  Fantasy|    1|\n",
            "|   comedy|    1|\n",
            "+---------+-----+\n",
            "\n"
          ]
        }
      ]
    },
    {
      "cell_type": "code",
      "source": [
        "#utilizando o IN\n",
        "df_movie.select('Film','Genre').filter(df_movie.Genre.isin('Drama','Comedy')).show()"
      ],
      "metadata": {
        "colab": {
          "base_uri": "https://localhost:8080/"
        },
        "id": "tx6lXHcTSdBu",
        "outputId": "5cb4756d-69ce-480d-a4b0-4facb207cdea"
      },
      "execution_count": 28,
      "outputs": [
        {
          "output_type": "stream",
          "name": "stdout",
          "text": [
            "+--------------------+------+\n",
            "|                Film| Genre|\n",
            "+--------------------+------+\n",
            "|     Youth in Revolt|Comedy|\n",
            "|You Will Meet a T...|Comedy|\n",
            "|        When in Rome|Comedy|\n",
            "|What Happens in V...|Comedy|\n",
            "| Water For Elephants| Drama|\n",
            "|     Valentine's Day|Comedy|\n",
            "|      The Ugly Truth|Comedy|\n",
            "|The Twilight Saga...| Drama|\n",
            "|The Time Traveler...| Drama|\n",
            "|        The Proposal|Comedy|\n",
            "|The Invention of ...|Comedy|\n",
            "|  The Heartbreak Kid|Comedy|\n",
            "|         The Duchess| Drama|\n",
            "|    The Back-up Plan|Comedy|\n",
            "|She's Out of My L...|Comedy|\n",
            "|Sex and the City Two|Comedy|\n",
            "|  Sex and the City 2|Comedy|\n",
            "|    Sex and the City|Comedy|\n",
            "|         Remember Me| Drama|\n",
            "|Rachel Getting Ma...| Drama|\n",
            "+--------------------+------+\n",
            "only showing top 20 rows\n",
            "\n"
          ]
        }
      ]
    },
    {
      "cell_type": "code",
      "source": [
        "#utilizando o IN Negação\n",
        "df_movie.select('Film','Genre').filter(~df_movie.Genre.isin('Drama','Comedy')).show()"
      ],
      "metadata": {
        "colab": {
          "base_uri": "https://localhost:8080/"
        },
        "id": "fPcYDxzkS1rK",
        "outputId": "4df9c772-eba5-4d8b-e6ef-6838a344441d"
      },
      "execution_count": 29,
      "outputs": [
        {
          "output_type": "stream",
          "name": "stdout",
          "text": [
            "+--------------------+---------+\n",
            "|                Film|    Genre|\n",
            "+--------------------+---------+\n",
            "|Zack and Miri Mak...|  Romance|\n",
            "|              WALL-E|Animation|\n",
            "|            Waitress|  Romance|\n",
            "| Waiting For Forever|  Romance|\n",
            "|Tyler Perry's Why...|  Romance|\n",
            "|Twilight: Breakin...|  Romance|\n",
            "|            Twilight|  Romance|\n",
            "|The Curious Case ...|  Fantasy|\n",
            "|             Tangled|Animation|\n",
            "|  Something Borrowed|  Romance|\n",
            "|     P.S. I Love You|  Romance|\n",
            "|             One Day|  Romance|\n",
            "|      New Year's Eve|  Romance|\n",
            "|    Music and Lyrics|  Romance|\n",
            "|         Monte Carlo|  Romance|\n",
            "|   Midnight in Paris|  Romence|\n",
            "|       Made of Honor|    Comdy|\n",
            "|             Killers|   Action|\n",
            "|           Jane Eyre|  Romance|\n",
            "|   Gnomeo and Juliet|Animation|\n",
            "+--------------------+---------+\n",
            "only showing top 20 rows\n",
            "\n"
          ]
        }
      ]
    },
    {
      "cell_type": "code",
      "source": [
        "#Usando SQL\n",
        "df_movie.createOrReplaceTempView('movies')\n",
        "spark.sql(\"\"\"\n",
        "SELECT\n",
        "    Genre,\n",
        "    count(*) as qtd\n",
        "FROM\n",
        "    movies\n",
        "GROUP BY\n",
        "    Genre\n",
        "ORDER BY\n",
        "    qtd DESC\n",
        "\"\"\").show(truncate=False)"
      ],
      "metadata": {
        "colab": {
          "base_uri": "https://localhost:8080/"
        },
        "id": "Qm_bA6AGS6xI",
        "outputId": "a14e0e06-0896-4c6b-e4d7-6e12e19ce34e"
      },
      "execution_count": 32,
      "outputs": [
        {
          "output_type": "stream",
          "name": "stdout",
          "text": [
            "+---------+---+\n",
            "|Genre    |qtd|\n",
            "+---------+---+\n",
            "|Comedy   |41 |\n",
            "|Romance  |13 |\n",
            "|Drama    |13 |\n",
            "|Animation|4  |\n",
            "|Romence  |1  |\n",
            "|Comdy    |1  |\n",
            "|romance  |1  |\n",
            "|comedy   |1  |\n",
            "|Fantasy  |1  |\n",
            "|Action   |1  |\n",
            "+---------+---+\n",
            "\n"
          ]
        }
      ]
    },
    {
      "cell_type": "code",
      "source": [],
      "metadata": {
        "id": "jc_hKTSjTfiG"
      },
      "execution_count": null,
      "outputs": []
    }
  ]
}